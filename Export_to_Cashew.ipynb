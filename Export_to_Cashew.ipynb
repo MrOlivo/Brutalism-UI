{
  "nbformat": 4,
  "nbformat_minor": 0,
  "metadata": {
    "colab": {
      "provenance": [],
      "mount_file_id": "10G8369xQd4xdcrRbL0bZHn_YRn2Y18dr",
      "authorship_tag": "ABX9TyNWAdiVRnaL+YiyIGWlXtd1",
      "include_colab_link": true
    },
    "kernelspec": {
      "name": "python3",
      "display_name": "Python 3"
    },
    "language_info": {
      "name": "python"
    }
  },
  "cells": [
    {
      "cell_type": "markdown",
      "metadata": {
        "id": "view-in-github",
        "colab_type": "text"
      },
      "source": [
        "<a href=\"https://colab.research.google.com/github/MrOlivo/Brutalism-UI/blob/main/Export_to_Cashew.ipynb\" target=\"_parent\"><img src=\"https://colab.research.google.com/assets/colab-badge.svg\" alt=\"Open In Colab\"/></a>"
      ]
    },
    {
      "cell_type": "code",
      "execution_count": null,
      "metadata": {
        "id": "26HnW1JUoegK"
      },
      "outputs": [],
      "source": [
        "import pandas as pd\n",
        "import numpy as np\n",
        "import datetime\n",
        "\n",
        "accounts = pd.read_csv(\"/content/drive/MyDrive/Ivy Wallet/cashew/originals/accounts.csv\")\n",
        "#print(accounts.columns)\n",
        "\n",
        "categories = pd.read_csv(\"/content/drive/MyDrive/Ivy Wallet/cashew/originals/categories.csv\")\n",
        "#print(categories.columns)\n",
        "\n",
        "transactions = pd.read_csv(\"/content/drive/MyDrive/Ivy Wallet/cashew/originals/transactions.csv\")\n",
        "#print(transactions.columns)\n",
        "\n",
        "transactions.loc[transactions['type'] == 'EXPENSE', 'amount'] = transactions['amount'] * -1\n",
        "\n",
        "#transactions"
      ]
    },
    {
      "cell_type": "code",
      "source": [
        "joined_entries = pd.merge(transactions, accounts, how='left', left_on='accountId', right_on='id')\n",
        "df_merged = pd.merge(joined_entries, categories, how='left', left_on='categoryId', right_on='id')\n",
        "df_merged['note'] = np.nan\n",
        "\n",
        "#df_merged"
      ],
      "metadata": {
        "id": "lLK57yXkPUF1"
      },
      "execution_count": null,
      "outputs": []
    },
    {
      "cell_type": "code",
      "source": [
        "def reemplazar_texto(valor_condicional, valor_actual):\n",
        "  if valor_condicional == \"TRANSFER\":\n",
        "    return 'Transferencia'\n",
        "  else:\n",
        "    return valor_actual\n",
        "\n",
        "df_merged['name_y'] = df_merged.apply(lambda row: reemplazar_texto(row['type'], row['name_y']), axis=1)\n",
        "\n",
        "#df_merged"
      ],
      "metadata": {
        "id": "5sPqpvjNk_EV"
      },
      "execution_count": null,
      "outputs": []
    },
    {
      "cell_type": "code",
      "source": [
        "def get_account_name(valor_condicional, valor_actual):\n",
        "    if valor_condicional == \"e770a1da-7f16-4c07-bb5f-ea0ba9c33cd8\":\n",
        "        return \"Efectivo\"\n",
        "    elif valor_condicional == \"b3f669d1-4064-46e0-865d-1285e19c80a3\":\n",
        "        return \"BanCoppel\"\n",
        "    elif valor_condicional == \"145331c4-b141-4053-aac9-386eb540f202\":\n",
        "        return \"Caja Popular\"\n",
        "    elif valor_condicional == \"dfc9acd9-3052-4fdf-8825-b13633485a6d\":\n",
        "        return \"Nu Credito\"\n",
        "    elif valor_condicional == \"cb95e20a-e747-4949-8e73-73a59fc00f48\":\n",
        "        return \"Nu Ahorro\"\n",
        "    elif valor_condicional == \"8b050316-925c-4019-bb5f-d4807c81d6ea\":\n",
        "        return \"Billú\"\n",
        "    elif valor_condicional == \"11e2343c-51ca-440e-b85c-c2ca26288804\":\n",
        "        return \"BBVA\"\n",
        "    else:\n",
        "        return valor_actual\n",
        "\n",
        "def isNaN(num):\n",
        "    return num != num\n",
        "\n",
        "def add_note(currentRow):\n",
        "  if not isNaN(currentRow['toAccountId']):\n",
        "    return \"Saldo transferido {} → {}\".format(\n",
        "        get_account_name(currentRow[\"accountId\"], currentRow[\"name_x\"]),\n",
        "        get_account_name(currentRow[\"toAccountId\"], currentRow[\"name_x\"]))\n",
        "  else:\n",
        "    return currentRow['toAccountId']\n",
        "\n",
        "def add_transfer_note(currentRow, accountId, message):\n",
        "  if currentRow['type'] == 'TRANSFER':\n",
        "    return message.format(\n",
        "        get_account_name(accountId, currentRow[\"name_x\"]))\n",
        "  else:\n",
        "    return currentRow['title']"
      ],
      "metadata": {
        "id": "xmB9A6qzcwlW"
      },
      "execution_count": null,
      "outputs": []
    },
    {
      "cell_type": "code",
      "source": [
        "df_duplicated = df_merged[df_merged[\"type\"] == \"TRANSFER\"].copy()\n",
        "\n",
        "# Add meesage «<Account> Transfer In»\n",
        "df_merged[\"title\"] = df_merged.apply(\n",
        "    lambda row: add_transfer_note(row, row[\"toAccountId\"], \"{} Transfer In\"), axis=1\n",
        ")\n",
        "# Add meesage «<Account> Transfer Out»\n",
        "df_duplicated[\"title\"] = df_duplicated.apply(\n",
        "    lambda row: add_transfer_note(row, row[\"accountId\"], \"{} Transfer Out\"), axis=1\n",
        ")\n",
        "\n",
        "# Change movement type\n",
        "df_merged[\"type\"] = df_merged[df_merged[\"type\"] == \"TRANSFER\"] = \"INCOME\"\n",
        "df_duplicated[\"type\"] = df_duplicated[df_duplicated[\"type\"] == \"TRANSFER\"] = \"EXPENSE\"\n",
        "\n",
        "# Change EXPENSEs to negative\n",
        "df_duplicated[\"amount\"] = df_duplicated[\"amount\"] * -1\n",
        "\n",
        "# Replace «account» value with «toAccount» value\n",
        "df_merged[\"name_x\"] = df_merged.apply(\n",
        "    lambda row: get_account_name(row[\"toAccountId\"], row[\"name_x\"]), axis=1\n",
        ")"
      ],
      "metadata": {
        "id": "_tRYkRQvQK-E"
      },
      "execution_count": null,
      "outputs": []
    },
    {
      "cell_type": "code",
      "source": [
        "# Join both dataframes\n",
        "df_concatenated = pd.concat([df_merged, df_duplicated])\n",
        "\n",
        "# Adds note «Saldo transferido Cuenta A → Cuenta B»\n",
        "df_concatenated[\"note\"] = df_concatenated.apply(add_note, axis=1)\n",
        "\n",
        "# Get only the needed columns\n",
        "df_final = df_concatenated[[\"dateTime\", \"amount\", \"name_y\", \"title\", \"note\", \"name_x\"]]\n",
        "df_final.columns = [\"Date\", \"Amount\", \"Category\", \"Title\", \"Note\", \"Account\"]\n",
        "\n",
        "df_final.sort_values(by=[\"Date\", \"Amount\"], ascending=False, inplace=True)\n",
        "df_final.reset_index(drop=True, inplace=True)\n",
        "\n",
        "df_final"
      ],
      "metadata": {
        "id": "fnHknSsgmLD4"
      },
      "execution_count": null,
      "outputs": []
    },
    {
      "cell_type": "code",
      "source": [
        "from datetime import datetime\n",
        "\n",
        "nombre_archivo = f\"data_{datetime.now().strftime('%Y-%m-%d_%H-%M-%S')}\"\n",
        "\n",
        "with open(\n",
        "    \"/content/drive/MyDrive/Ivy Wallet/cashew/{}.csv\".format(nombre_archivo),\n",
        "    \"w\",\n",
        "    encoding=\"utf-8-sig\",\n",
        ") as f:\n",
        "    df_final.to_csv(f)\n"
      ],
      "metadata": {
        "id": "koxty5fhIQJt"
      },
      "execution_count": null,
      "outputs": []
    }
  ]
}